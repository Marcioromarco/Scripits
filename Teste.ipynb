{
  "nbformat": 4,
  "nbformat_minor": 0,
  "metadata": {
    "colab": {
      "name": "Teste.ipynb",
      "provenance": [],
      "authorship_tag": "ABX9TyPohB7VbHIbe5YsnPymWe/Q",
      "include_colab_link": true
    },
    "kernelspec": {
      "name": "ir",
      "display_name": "R"
    },
    "language_info": {
      "name": "R"
    }
  },
  "cells": [
    {
      "cell_type": "markdown",
      "metadata": {
        "id": "view-in-github",
        "colab_type": "text"
      },
      "source": [
        "<a href=\"https://colab.research.google.com/github/Marcioromarco/Scripits/blob/master/Teste.ipynb\" target=\"_parent\"><img src=\"https://colab.research.google.com/assets/colab-badge.svg\" alt=\"Open In Colab\"/></a>"
      ]
    },
    {
      "cell_type": "code",
      "metadata": {
        "colab": {
          "base_uri": "https://localhost:8080/",
          "height": 272
        },
        "id": "27yM9cEgJTsH",
        "outputId": "64dd470d-ada2-4998-9f85-1085acf2eb3c"
      },
      "source": [
        "#Verificando a versao do R\n",
        "version"
      ],
      "execution_count": 19,
      "outputs": [
        {
          "output_type": "display_data",
          "data": {
            "text/plain": [
              "               _                           \n",
              "platform       x86_64-pc-linux-gnu         \n",
              "arch           x86_64                      \n",
              "os             linux-gnu                   \n",
              "system         x86_64, linux-gnu           \n",
              "status                                     \n",
              "major          4                           \n",
              "minor          1.1                         \n",
              "year           2021                        \n",
              "month          08                          \n",
              "day            10                          \n",
              "svn rev        80725                       \n",
              "language       R                           \n",
              "version.string R version 4.1.1 (2021-08-10)\n",
              "nickname       Kick Things                 "
            ]
          },
          "metadata": {}
        }
      ]
    },
    {
      "cell_type": "code",
      "metadata": {
        "colab": {
          "base_uri": "https://localhost:8080/"
        },
        "id": "Q7tCzvQgJv-P",
        "outputId": "bcfe6b44-4375-4cdd-9a15-4b9ff75b0905"
      },
      "source": [
        "install.packages(\"dplyr\")"
      ],
      "execution_count": 21,
      "outputs": [
        {
          "output_type": "stream",
          "name": "stderr",
          "text": [
            "Installing package into ‘/usr/local/lib/R/site-library’\n",
            "(as ‘lib’ is unspecified)\n",
            "\n"
          ]
        }
      ]
    },
    {
      "cell_type": "code",
      "metadata": {
        "colab": {
          "base_uri": "https://localhost:8080/",
          "height": 1000
        },
        "id": "K74bULllJrH6",
        "outputId": "ee8144e4-1fa3-47de-f75c-3048943eeb52"
      },
      "source": [
        "# Veificando os pacotes instalados\n",
        "str (allPackage <- installed.packages ()) \n",
        "allPackage [, c (1,3: 5)] # para parecer em formato de tabela"
      ],
      "execution_count": 25,
      "outputs": [
        {
          "output_type": "stream",
          "name": "stdout",
          "text": [
            " chr [1:160, 1:16] \"dplyr\" \"ExpDes.pt\" \"IRdisplay\" \"IRkernel\" \"pbdZMQ\" ...\n",
            " - attr(*, \"dimnames\")=List of 2\n",
            "  ..$ : chr [1:160] \"dplyr\" \"ExpDes.pt\" \"IRdisplay\" \"IRkernel\" ...\n",
            "  ..$ : chr [1:16] \"Package\" \"LibPath\" \"Version\" \"Priority\" ...\n"
          ]
        },
        {
          "output_type": "display_data",
          "data": {
            "text/plain": [
              "            Package     Version Priority   \n",
              "dplyr       dplyr       1.0.7   NA         \n",
              "ExpDes.pt   ExpDes.pt   1.2.2   NA         \n",
              "IRdisplay   IRdisplay   1.0     NA         \n",
              "IRkernel    IRkernel    1.2     NA         \n",
              "pbdZMQ      pbdZMQ      0.3-6   NA         \n",
              "repr        repr        1.1.3   NA         \n",
              "stargazer   stargazer   5.2.2   NA         \n",
              "askpass     askpass     1.1     NA         \n",
              "assertthat  assertthat  0.2.1   NA         \n",
              "backports   backports   1.3.0   NA         \n",
              "base64enc   base64enc   0.1-3   NA         \n",
              "bit         bit         4.0.4   NA         \n",
              "bit64       bit64       4.0.5   NA         \n",
              "blob        blob        1.2.2   NA         \n",
              "brew        brew        1.0-6   NA         \n",
              "brio        brio        1.1.2   NA         \n",
              "broom       broom       0.7.9   NA         \n",
              "cachem      cachem      1.0.6   NA         \n",
              "callr       callr       3.7.0   NA         \n",
              "cellranger  cellranger  1.1.0   NA         \n",
              "cli         cli         3.1.0   NA         \n",
              "clipr       clipr       0.7.1   NA         \n",
              "colorspace  colorspace  2.0-2   NA         \n",
              "commonmark  commonmark  1.7     NA         \n",
              "cpp11       cpp11       0.4.0   NA         \n",
              "crayon      crayon      1.4.2   NA         \n",
              "credentials credentials 1.3.1   NA         \n",
              "curl        curl        4.3.2   NA         \n",
              "data.table  data.table  1.14.2  NA         \n",
              "DBI         DBI         1.1.1   NA         \n",
              "⋮           ⋮           ⋮       ⋮          \n",
              "zip         zip         2.2.0   NA         \n",
              "base        base        4.1.1   base       \n",
              "boot        boot        1.3-28  recommended\n",
              "class       class       7.3-19  recommended\n",
              "cluster     cluster     2.1.2   recommended\n",
              "codetools   codetools   0.2-18  recommended\n",
              "compiler    compiler    4.1.1   base       \n",
              "datasets    datasets    4.1.1   base       \n",
              "foreign     foreign     0.8-81  recommended\n",
              "graphics    graphics    4.1.1   base       \n",
              "grDevices   grDevices   4.1.1   base       \n",
              "grid        grid        4.1.1   base       \n",
              "KernSmooth  KernSmooth  2.23-20 recommended\n",
              "lattice     lattice     0.20-45 recommended\n",
              "MASS        MASS        7.3-54  recommended\n",
              "Matrix      Matrix      1.3-4   recommended\n",
              "methods     methods     4.1.1   base       \n",
              "mgcv        mgcv        1.8-38  recommended\n",
              "nlme        nlme        3.1-152 recommended\n",
              "nnet        nnet        7.3-16  recommended\n",
              "parallel    parallel    4.1.1   base       \n",
              "rpart       rpart       4.1-15  recommended\n",
              "spatial     spatial     7.3-14  recommended\n",
              "splines     splines     4.1.1   base       \n",
              "stats       stats       4.1.1   base       \n",
              "stats4      stats4      4.1.1   base       \n",
              "survival    survival    3.2-13  recommended\n",
              "tcltk       tcltk       4.1.1   base       \n",
              "tools       tools       4.1.1   base       \n",
              "utils       utils       4.1.1   base       \n",
              "            Depends                                            \n",
              "dplyr       R (>= 3.3.0)                                       \n",
              "ExpDes.pt   R (>= 4.0)                                         \n",
              "IRdisplay   R (>= 3.0.1)                                       \n",
              "IRkernel    R (>= 3.2.0)                                       \n",
              "pbdZMQ      R (>= 3.5.0)                                       \n",
              "repr        R (>= 3.0.1)                                       \n",
              "stargazer   NA                                                 \n",
              "askpass     NA                                                 \n",
              "assertthat  NA                                                 \n",
              "backports   R (>= 3.0.0)                                       \n",
              "base64enc   R (>= 2.9.0)                                       \n",
              "bit         R (>= 2.9.2)                                       \n",
              "bit64       R (>= 3.0.1), bit (>= 4.0.0), utils, methods, stats\n",
              "blob        NA                                                 \n",
              "brew        NA                                                 \n",
              "brio        NA                                                 \n",
              "broom       R (>= 3.1)                                         \n",
              "cachem      NA                                                 \n",
              "callr       NA                                                 \n",
              "cellranger  R (>= 3.0.0)                                       \n",
              "cli         R (>= 2.10)                                        \n",
              "clipr       NA                                                 \n",
              "colorspace  R (>= 3.0.0), methods                              \n",
              "commonmark  NA                                                 \n",
              "cpp11       NA                                                 \n",
              "crayon      NA                                                 \n",
              "credentials NA                                                 \n",
              "curl        R (>= 3.0.0)                                       \n",
              "data.table  R (>= 3.1.0)                                       \n",
              "DBI         methods, R (>= 3.0.0)                              \n",
              "⋮           ⋮                                                  \n",
              "zip         NA                                                 \n",
              "base        NA                                                 \n",
              "boot        R (>= 3.0.0), graphics, stats                      \n",
              "class       R (>= 3.0.0), stats, utils                         \n",
              "cluster     R (>= 3.4.0)                                       \n",
              "codetools   R (>= 2.1)                                         \n",
              "compiler    NA                                                 \n",
              "datasets    NA                                                 \n",
              "foreign     R (>= 4.0.0)                                       \n",
              "graphics    NA                                                 \n",
              "grDevices   NA                                                 \n",
              "grid        NA                                                 \n",
              "KernSmooth  R (>= 2.5.0), stats                                \n",
              "lattice     R (>= 3.0.0)                                       \n",
              "MASS        R (>= 3.3.0), grDevices, graphics, stats, utils    \n",
              "Matrix      R (>= 3.5.0)                                       \n",
              "methods     NA                                                 \n",
              "mgcv        R (>= 3.6.0), nlme (>= 3.1-64)                     \n",
              "nlme        R (>= 3.4.0)                                       \n",
              "nnet        R (>= 3.0.0), stats, utils                         \n",
              "parallel    NA                                                 \n",
              "rpart       R (>= 2.15.0), graphics, stats, grDevices          \n",
              "spatial     R (>= 3.0.0), graphics, stats, utils               \n",
              "splines     NA                                                 \n",
              "stats       NA                                                 \n",
              "stats4      NA                                                 \n",
              "survival    R (>= 3.5.0)                                       \n",
              "tcltk       NA                                                 \n",
              "tools       NA                                                 \n",
              "utils       NA                                                 "
            ],
            "text/latex": "A matrix: 160 × 4 of type chr\n\\begin{tabular}{r|llll}\n  & Package & Version & Priority & Depends\\\\\n\\hline\n\tdplyr & dplyr       & 1.0.7  & NA & R (>= 3.3.0)                                       \\\\\n\tExpDes.pt & ExpDes.pt   & 1.2.2  & NA & R (>= 4.0)                                         \\\\\n\tIRdisplay & IRdisplay   & 1.0    & NA & R (>= 3.0.1)                                       \\\\\n\tIRkernel & IRkernel    & 1.2    & NA & R (>= 3.2.0)                                       \\\\\n\tpbdZMQ & pbdZMQ      & 0.3-6  & NA & R (>= 3.5.0)                                       \\\\\n\trepr & repr        & 1.1.3  & NA & R (>= 3.0.1)                                       \\\\\n\tstargazer & stargazer   & 5.2.2  & NA & NA                                                 \\\\\n\taskpass & askpass     & 1.1    & NA & NA                                                 \\\\\n\tassertthat & assertthat  & 0.2.1  & NA & NA                                                 \\\\\n\tbackports & backports   & 1.3.0  & NA & R (>= 3.0.0)                                       \\\\\n\tbase64enc & base64enc   & 0.1-3  & NA & R (>= 2.9.0)                                       \\\\\n\tbit & bit         & 4.0.4  & NA & R (>= 2.9.2)                                       \\\\\n\tbit64 & bit64       & 4.0.5  & NA & R (>= 3.0.1), bit (>= 4.0.0), utils, methods, stats\\\\\n\tblob & blob        & 1.2.2  & NA & NA                                                 \\\\\n\tbrew & brew        & 1.0-6  & NA & NA                                                 \\\\\n\tbrio & brio        & 1.1.2  & NA & NA                                                 \\\\\n\tbroom & broom       & 0.7.9  & NA & R (>= 3.1)                                         \\\\\n\tcachem & cachem      & 1.0.6  & NA & NA                                                 \\\\\n\tcallr & callr       & 3.7.0  & NA & NA                                                 \\\\\n\tcellranger & cellranger  & 1.1.0  & NA & R (>= 3.0.0)                                       \\\\\n\tcli & cli         & 3.1.0  & NA & R (>= 2.10)                                        \\\\\n\tclipr & clipr       & 0.7.1  & NA & NA                                                 \\\\\n\tcolorspace & colorspace  & 2.0-2  & NA & R (>= 3.0.0), methods                              \\\\\n\tcommonmark & commonmark  & 1.7    & NA & NA                                                 \\\\\n\tcpp11 & cpp11       & 0.4.0  & NA & NA                                                 \\\\\n\tcrayon & crayon      & 1.4.2  & NA & NA                                                 \\\\\n\tcredentials & credentials & 1.3.1  & NA & NA                                                 \\\\\n\tcurl & curl        & 4.3.2  & NA & R (>= 3.0.0)                                       \\\\\n\tdata.table & data.table  & 1.14.2 & NA & R (>= 3.1.0)                                       \\\\\n\tDBI & DBI         & 1.1.1  & NA & methods, R (>= 3.0.0)                              \\\\\n\t⋮ & ⋮ & ⋮ & ⋮ & ⋮\\\\\n\tzip & zip        & 2.2.0   & NA          & NA                                             \\\\\n\tbase & base       & 4.1.1   & base        & NA                                             \\\\\n\tboot & boot       & 1.3-28  & recommended & R (>= 3.0.0), graphics, stats                  \\\\\n\tclass & class      & 7.3-19  & recommended & R (>= 3.0.0), stats, utils                     \\\\\n\tcluster & cluster    & 2.1.2   & recommended & R (>= 3.4.0)                                   \\\\\n\tcodetools & codetools  & 0.2-18  & recommended & R (>= 2.1)                                     \\\\\n\tcompiler & compiler   & 4.1.1   & base        & NA                                             \\\\\n\tdatasets & datasets   & 4.1.1   & base        & NA                                             \\\\\n\tforeign & foreign    & 0.8-81  & recommended & R (>= 4.0.0)                                   \\\\\n\tgraphics & graphics   & 4.1.1   & base        & NA                                             \\\\\n\tgrDevices & grDevices  & 4.1.1   & base        & NA                                             \\\\\n\tgrid & grid       & 4.1.1   & base        & NA                                             \\\\\n\tKernSmooth & KernSmooth & 2.23-20 & recommended & R (>= 2.5.0), stats                            \\\\\n\tlattice & lattice    & 0.20-45 & recommended & R (>= 3.0.0)                                   \\\\\n\tMASS & MASS       & 7.3-54  & recommended & R (>= 3.3.0), grDevices, graphics, stats, utils\\\\\n\tMatrix & Matrix     & 1.3-4   & recommended & R (>= 3.5.0)                                   \\\\\n\tmethods & methods    & 4.1.1   & base        & NA                                             \\\\\n\tmgcv & mgcv       & 1.8-38  & recommended & R (>= 3.6.0), nlme (>= 3.1-64)                 \\\\\n\tnlme & nlme       & 3.1-152 & recommended & R (>= 3.4.0)                                   \\\\\n\tnnet & nnet       & 7.3-16  & recommended & R (>= 3.0.0), stats, utils                     \\\\\n\tparallel & parallel   & 4.1.1   & base        & NA                                             \\\\\n\trpart & rpart      & 4.1-15  & recommended & R (>= 2.15.0), graphics, stats, grDevices      \\\\\n\tspatial & spatial    & 7.3-14  & recommended & R (>= 3.0.0), graphics, stats, utils           \\\\\n\tsplines & splines    & 4.1.1   & base        & NA                                             \\\\\n\tstats & stats      & 4.1.1   & base        & NA                                             \\\\\n\tstats4 & stats4     & 4.1.1   & base        & NA                                             \\\\\n\tsurvival & survival   & 3.2-13  & recommended & R (>= 3.5.0)                                   \\\\\n\ttcltk & tcltk      & 4.1.1   & base        & NA                                             \\\\\n\ttools & tools      & 4.1.1   & base        & NA                                             \\\\\n\tutils & utils      & 4.1.1   & base        & NA                                             \\\\\n\\end{tabular}\n",
            "text/markdown": "\nA matrix: 160 × 4 of type chr\n\n| <!--/--> | Package | Version | Priority | Depends |\n|---|---|---|---|---|\n| dplyr | dplyr       | 1.0.7  | NA | R (&gt;= 3.3.0)                                        |\n| ExpDes.pt | ExpDes.pt   | 1.2.2  | NA | R (&gt;= 4.0)                                          |\n| IRdisplay | IRdisplay   | 1.0    | NA | R (&gt;= 3.0.1)                                        |\n| IRkernel | IRkernel    | 1.2    | NA | R (&gt;= 3.2.0)                                        |\n| pbdZMQ | pbdZMQ      | 0.3-6  | NA | R (&gt;= 3.5.0)                                        |\n| repr | repr        | 1.1.3  | NA | R (&gt;= 3.0.1)                                        |\n| stargazer | stargazer   | 5.2.2  | NA | NA                                                  |\n| askpass | askpass     | 1.1    | NA | NA                                                  |\n| assertthat | assertthat  | 0.2.1  | NA | NA                                                  |\n| backports | backports   | 1.3.0  | NA | R (&gt;= 3.0.0)                                        |\n| base64enc | base64enc   | 0.1-3  | NA | R (&gt;= 2.9.0)                                        |\n| bit | bit         | 4.0.4  | NA | R (&gt;= 2.9.2)                                        |\n| bit64 | bit64       | 4.0.5  | NA | R (&gt;= 3.0.1), bit (&gt;= 4.0.0), utils, methods, stats |\n| blob | blob        | 1.2.2  | NA | NA                                                  |\n| brew | brew        | 1.0-6  | NA | NA                                                  |\n| brio | brio        | 1.1.2  | NA | NA                                                  |\n| broom | broom       | 0.7.9  | NA | R (&gt;= 3.1)                                          |\n| cachem | cachem      | 1.0.6  | NA | NA                                                  |\n| callr | callr       | 3.7.0  | NA | NA                                                  |\n| cellranger | cellranger  | 1.1.0  | NA | R (&gt;= 3.0.0)                                        |\n| cli | cli         | 3.1.0  | NA | R (&gt;= 2.10)                                         |\n| clipr | clipr       | 0.7.1  | NA | NA                                                  |\n| colorspace | colorspace  | 2.0-2  | NA | R (&gt;= 3.0.0), methods                               |\n| commonmark | commonmark  | 1.7    | NA | NA                                                  |\n| cpp11 | cpp11       | 0.4.0  | NA | NA                                                  |\n| crayon | crayon      | 1.4.2  | NA | NA                                                  |\n| credentials | credentials | 1.3.1  | NA | NA                                                  |\n| curl | curl        | 4.3.2  | NA | R (&gt;= 3.0.0)                                        |\n| data.table | data.table  | 1.14.2 | NA | R (&gt;= 3.1.0)                                        |\n| DBI | DBI         | 1.1.1  | NA | methods, R (&gt;= 3.0.0)                               |\n| ⋮ | ⋮ | ⋮ | ⋮ | ⋮ |\n| zip | zip        | 2.2.0   | NA          | NA                                              |\n| base | base       | 4.1.1   | base        | NA                                              |\n| boot | boot       | 1.3-28  | recommended | R (&gt;= 3.0.0), graphics, stats                   |\n| class | class      | 7.3-19  | recommended | R (&gt;= 3.0.0), stats, utils                      |\n| cluster | cluster    | 2.1.2   | recommended | R (&gt;= 3.4.0)                                    |\n| codetools | codetools  | 0.2-18  | recommended | R (&gt;= 2.1)                                      |\n| compiler | compiler   | 4.1.1   | base        | NA                                              |\n| datasets | datasets   | 4.1.1   | base        | NA                                              |\n| foreign | foreign    | 0.8-81  | recommended | R (&gt;= 4.0.0)                                    |\n| graphics | graphics   | 4.1.1   | base        | NA                                              |\n| grDevices | grDevices  | 4.1.1   | base        | NA                                              |\n| grid | grid       | 4.1.1   | base        | NA                                              |\n| KernSmooth | KernSmooth | 2.23-20 | recommended | R (&gt;= 2.5.0), stats                             |\n| lattice | lattice    | 0.20-45 | recommended | R (&gt;= 3.0.0)                                    |\n| MASS | MASS       | 7.3-54  | recommended | R (&gt;= 3.3.0), grDevices, graphics, stats, utils |\n| Matrix | Matrix     | 1.3-4   | recommended | R (&gt;= 3.5.0)                                    |\n| methods | methods    | 4.1.1   | base        | NA                                              |\n| mgcv | mgcv       | 1.8-38  | recommended | R (&gt;= 3.6.0), nlme (&gt;= 3.1-64)                  |\n| nlme | nlme       | 3.1-152 | recommended | R (&gt;= 3.4.0)                                    |\n| nnet | nnet       | 7.3-16  | recommended | R (&gt;= 3.0.0), stats, utils                      |\n| parallel | parallel   | 4.1.1   | base        | NA                                              |\n| rpart | rpart      | 4.1-15  | recommended | R (&gt;= 2.15.0), graphics, stats, grDevices       |\n| spatial | spatial    | 7.3-14  | recommended | R (&gt;= 3.0.0), graphics, stats, utils            |\n| splines | splines    | 4.1.1   | base        | NA                                              |\n| stats | stats      | 4.1.1   | base        | NA                                              |\n| stats4 | stats4     | 4.1.1   | base        | NA                                              |\n| survival | survival   | 3.2-13  | recommended | R (&gt;= 3.5.0)                                    |\n| tcltk | tcltk      | 4.1.1   | base        | NA                                              |\n| tools | tools      | 4.1.1   | base        | NA                                              |\n| utils | utils      | 4.1.1   | base        | NA                                              |\n\n",
            "text/html": [
              "<table class=\"dataframe\">\n",
              "<caption>A matrix: 160 × 4 of type chr</caption>\n",
              "<thead>\n",
              "\t<tr><th></th><th scope=col>Package</th><th scope=col>Version</th><th scope=col>Priority</th><th scope=col>Depends</th></tr>\n",
              "</thead>\n",
              "<tbody>\n",
              "\t<tr><th scope=row>dplyr</th><td><span style=white-space:pre-wrap>dplyr      </span></td><td>1.0.7 </td><td>NA</td><td><span style=white-space:pre-wrap>R (&gt;= 3.3.0)                                       </span></td></tr>\n",
              "\t<tr><th scope=row>ExpDes.pt</th><td><span style=white-space:pre-wrap>ExpDes.pt  </span></td><td>1.2.2 </td><td>NA</td><td><span style=white-space:pre-wrap>R (&gt;= 4.0)                                         </span></td></tr>\n",
              "\t<tr><th scope=row>IRdisplay</th><td><span style=white-space:pre-wrap>IRdisplay  </span></td><td><span style=white-space:pre-wrap>1.0   </span></td><td>NA</td><td><span style=white-space:pre-wrap>R (&gt;= 3.0.1)                                       </span></td></tr>\n",
              "\t<tr><th scope=row>IRkernel</th><td><span style=white-space:pre-wrap>IRkernel   </span></td><td><span style=white-space:pre-wrap>1.2   </span></td><td>NA</td><td><span style=white-space:pre-wrap>R (&gt;= 3.2.0)                                       </span></td></tr>\n",
              "\t<tr><th scope=row>pbdZMQ</th><td><span style=white-space:pre-wrap>pbdZMQ     </span></td><td>0.3-6 </td><td>NA</td><td><span style=white-space:pre-wrap>R (&gt;= 3.5.0)                                       </span></td></tr>\n",
              "\t<tr><th scope=row>repr</th><td><span style=white-space:pre-wrap>repr       </span></td><td>1.1.3 </td><td>NA</td><td><span style=white-space:pre-wrap>R (&gt;= 3.0.1)                                       </span></td></tr>\n",
              "\t<tr><th scope=row>stargazer</th><td>stargazer  </td><td>5.2.2 </td><td>NA</td><td>NA                                                 </td></tr>\n",
              "\t<tr><th scope=row>askpass</th><td>askpass    </td><td>1.1   </td><td>NA</td><td>NA                                                 </td></tr>\n",
              "\t<tr><th scope=row>assertthat</th><td>assertthat </td><td>0.2.1 </td><td>NA</td><td>NA                                                 </td></tr>\n",
              "\t<tr><th scope=row>backports</th><td><span style=white-space:pre-wrap>backports  </span></td><td>1.3.0 </td><td>NA</td><td><span style=white-space:pre-wrap>R (&gt;= 3.0.0)                                       </span></td></tr>\n",
              "\t<tr><th scope=row>base64enc</th><td><span style=white-space:pre-wrap>base64enc  </span></td><td>0.1-3 </td><td>NA</td><td><span style=white-space:pre-wrap>R (&gt;= 2.9.0)                                       </span></td></tr>\n",
              "\t<tr><th scope=row>bit</th><td><span style=white-space:pre-wrap>bit        </span></td><td>4.0.4 </td><td>NA</td><td><span style=white-space:pre-wrap>R (&gt;= 2.9.2)                                       </span></td></tr>\n",
              "\t<tr><th scope=row>bit64</th><td><span style=white-space:pre-wrap>bit64      </span></td><td>4.0.5 </td><td>NA</td><td>R (&gt;= 3.0.1), bit (&gt;= 4.0.0), utils, methods, stats</td></tr>\n",
              "\t<tr><th scope=row>blob</th><td>blob       </td><td>1.2.2 </td><td>NA</td><td>NA                                                 </td></tr>\n",
              "\t<tr><th scope=row>brew</th><td>brew       </td><td>1.0-6 </td><td>NA</td><td>NA                                                 </td></tr>\n",
              "\t<tr><th scope=row>brio</th><td>brio       </td><td>1.1.2 </td><td>NA</td><td>NA                                                 </td></tr>\n",
              "\t<tr><th scope=row>broom</th><td><span style=white-space:pre-wrap>broom      </span></td><td>0.7.9 </td><td>NA</td><td><span style=white-space:pre-wrap>R (&gt;= 3.1)                                         </span></td></tr>\n",
              "\t<tr><th scope=row>cachem</th><td>cachem     </td><td>1.0.6 </td><td>NA</td><td>NA                                                 </td></tr>\n",
              "\t<tr><th scope=row>callr</th><td>callr      </td><td>3.7.0 </td><td>NA</td><td>NA                                                 </td></tr>\n",
              "\t<tr><th scope=row>cellranger</th><td>cellranger </td><td>1.1.0 </td><td>NA</td><td><span style=white-space:pre-wrap>R (&gt;= 3.0.0)                                       </span></td></tr>\n",
              "\t<tr><th scope=row>cli</th><td><span style=white-space:pre-wrap>cli        </span></td><td>3.1.0 </td><td>NA</td><td><span style=white-space:pre-wrap>R (&gt;= 2.10)                                        </span></td></tr>\n",
              "\t<tr><th scope=row>clipr</th><td>clipr      </td><td>0.7.1 </td><td>NA</td><td>NA                                                 </td></tr>\n",
              "\t<tr><th scope=row>colorspace</th><td>colorspace </td><td>2.0-2 </td><td>NA</td><td><span style=white-space:pre-wrap>R (&gt;= 3.0.0), methods                              </span></td></tr>\n",
              "\t<tr><th scope=row>commonmark</th><td>commonmark </td><td>1.7   </td><td>NA</td><td>NA                                                 </td></tr>\n",
              "\t<tr><th scope=row>cpp11</th><td>cpp11      </td><td>0.4.0 </td><td>NA</td><td>NA                                                 </td></tr>\n",
              "\t<tr><th scope=row>crayon</th><td>crayon     </td><td>1.4.2 </td><td>NA</td><td>NA                                                 </td></tr>\n",
              "\t<tr><th scope=row>credentials</th><td>credentials</td><td>1.3.1 </td><td>NA</td><td>NA                                                 </td></tr>\n",
              "\t<tr><th scope=row>curl</th><td><span style=white-space:pre-wrap>curl       </span></td><td>4.3.2 </td><td>NA</td><td><span style=white-space:pre-wrap>R (&gt;= 3.0.0)                                       </span></td></tr>\n",
              "\t<tr><th scope=row>data.table</th><td>data.table </td><td>1.14.2</td><td>NA</td><td><span style=white-space:pre-wrap>R (&gt;= 3.1.0)                                       </span></td></tr>\n",
              "\t<tr><th scope=row>DBI</th><td><span style=white-space:pre-wrap>DBI        </span></td><td>1.1.1 </td><td>NA</td><td><span style=white-space:pre-wrap>methods, R (&gt;= 3.0.0)                              </span></td></tr>\n",
              "\t<tr><th scope=row>⋮</th><td>⋮</td><td>⋮</td><td>⋮</td><td>⋮</td></tr>\n",
              "\t<tr><th scope=row>zip</th><td>zip       </td><td>2.2.0  </td><td>NA         </td><td>NA                                             </td></tr>\n",
              "\t<tr><th scope=row>base</th><td>base      </td><td>4.1.1  </td><td>base       </td><td>NA                                             </td></tr>\n",
              "\t<tr><th scope=row>boot</th><td><span style=white-space:pre-wrap>boot      </span></td><td>1.3-28 </td><td>recommended</td><td><span style=white-space:pre-wrap>R (&gt;= 3.0.0), graphics, stats                  </span></td></tr>\n",
              "\t<tr><th scope=row>class</th><td><span style=white-space:pre-wrap>class     </span></td><td>7.3-19 </td><td>recommended</td><td><span style=white-space:pre-wrap>R (&gt;= 3.0.0), stats, utils                     </span></td></tr>\n",
              "\t<tr><th scope=row>cluster</th><td><span style=white-space:pre-wrap>cluster   </span></td><td><span style=white-space:pre-wrap>2.1.2  </span></td><td>recommended</td><td><span style=white-space:pre-wrap>R (&gt;= 3.4.0)                                   </span></td></tr>\n",
              "\t<tr><th scope=row>codetools</th><td>codetools </td><td>0.2-18 </td><td>recommended</td><td><span style=white-space:pre-wrap>R (&gt;= 2.1)                                     </span></td></tr>\n",
              "\t<tr><th scope=row>compiler</th><td>compiler  </td><td>4.1.1  </td><td>base       </td><td>NA                                             </td></tr>\n",
              "\t<tr><th scope=row>datasets</th><td>datasets  </td><td>4.1.1  </td><td>base       </td><td>NA                                             </td></tr>\n",
              "\t<tr><th scope=row>foreign</th><td><span style=white-space:pre-wrap>foreign   </span></td><td>0.8-81 </td><td>recommended</td><td><span style=white-space:pre-wrap>R (&gt;= 4.0.0)                                   </span></td></tr>\n",
              "\t<tr><th scope=row>graphics</th><td>graphics  </td><td>4.1.1  </td><td>base       </td><td>NA                                             </td></tr>\n",
              "\t<tr><th scope=row>grDevices</th><td>grDevices </td><td>4.1.1  </td><td>base       </td><td>NA                                             </td></tr>\n",
              "\t<tr><th scope=row>grid</th><td>grid      </td><td>4.1.1  </td><td>base       </td><td>NA                                             </td></tr>\n",
              "\t<tr><th scope=row>KernSmooth</th><td>KernSmooth</td><td>2.23-20</td><td>recommended</td><td><span style=white-space:pre-wrap>R (&gt;= 2.5.0), stats                            </span></td></tr>\n",
              "\t<tr><th scope=row>lattice</th><td><span style=white-space:pre-wrap>lattice   </span></td><td>0.20-45</td><td>recommended</td><td><span style=white-space:pre-wrap>R (&gt;= 3.0.0)                                   </span></td></tr>\n",
              "\t<tr><th scope=row>MASS</th><td><span style=white-space:pre-wrap>MASS      </span></td><td>7.3-54 </td><td>recommended</td><td>R (&gt;= 3.3.0), grDevices, graphics, stats, utils</td></tr>\n",
              "\t<tr><th scope=row>Matrix</th><td><span style=white-space:pre-wrap>Matrix    </span></td><td><span style=white-space:pre-wrap>1.3-4  </span></td><td>recommended</td><td><span style=white-space:pre-wrap>R (&gt;= 3.5.0)                                   </span></td></tr>\n",
              "\t<tr><th scope=row>methods</th><td>methods   </td><td>4.1.1  </td><td>base       </td><td>NA                                             </td></tr>\n",
              "\t<tr><th scope=row>mgcv</th><td><span style=white-space:pre-wrap>mgcv      </span></td><td>1.8-38 </td><td>recommended</td><td><span style=white-space:pre-wrap>R (&gt;= 3.6.0), nlme (&gt;= 3.1-64)                 </span></td></tr>\n",
              "\t<tr><th scope=row>nlme</th><td><span style=white-space:pre-wrap>nlme      </span></td><td>3.1-152</td><td>recommended</td><td><span style=white-space:pre-wrap>R (&gt;= 3.4.0)                                   </span></td></tr>\n",
              "\t<tr><th scope=row>nnet</th><td><span style=white-space:pre-wrap>nnet      </span></td><td>7.3-16 </td><td>recommended</td><td><span style=white-space:pre-wrap>R (&gt;= 3.0.0), stats, utils                     </span></td></tr>\n",
              "\t<tr><th scope=row>parallel</th><td>parallel  </td><td>4.1.1  </td><td>base       </td><td>NA                                             </td></tr>\n",
              "\t<tr><th scope=row>rpart</th><td><span style=white-space:pre-wrap>rpart     </span></td><td>4.1-15 </td><td>recommended</td><td><span style=white-space:pre-wrap>R (&gt;= 2.15.0), graphics, stats, grDevices      </span></td></tr>\n",
              "\t<tr><th scope=row>spatial</th><td><span style=white-space:pre-wrap>spatial   </span></td><td>7.3-14 </td><td>recommended</td><td><span style=white-space:pre-wrap>R (&gt;= 3.0.0), graphics, stats, utils           </span></td></tr>\n",
              "\t<tr><th scope=row>splines</th><td>splines   </td><td>4.1.1  </td><td>base       </td><td>NA                                             </td></tr>\n",
              "\t<tr><th scope=row>stats</th><td>stats     </td><td>4.1.1  </td><td>base       </td><td>NA                                             </td></tr>\n",
              "\t<tr><th scope=row>stats4</th><td>stats4    </td><td>4.1.1  </td><td>base       </td><td>NA                                             </td></tr>\n",
              "\t<tr><th scope=row>survival</th><td><span style=white-space:pre-wrap>survival  </span></td><td>3.2-13 </td><td>recommended</td><td><span style=white-space:pre-wrap>R (&gt;= 3.5.0)                                   </span></td></tr>\n",
              "\t<tr><th scope=row>tcltk</th><td>tcltk     </td><td>4.1.1  </td><td>base       </td><td>NA                                             </td></tr>\n",
              "\t<tr><th scope=row>tools</th><td>tools     </td><td>4.1.1  </td><td>base       </td><td>NA                                             </td></tr>\n",
              "\t<tr><th scope=row>utils</th><td>utils     </td><td>4.1.1  </td><td>base       </td><td>NA                                             </td></tr>\n",
              "</tbody>\n",
              "</table>\n"
            ]
          },
          "metadata": {}
        }
      ]
    },
    {
      "cell_type": "code",
      "metadata": {
        "id": "EYSndsH8CpoA",
        "colab": {
          "base_uri": "https://localhost:8080/",
          "height": 725
        },
        "outputId": "3e7ee49f-0bfc-46c0-f580-bc05d8be4c53"
      },
      "source": [
        "dados <- read.csv2(\"est.csv\", sep=\";\", dec=\",\",header = TRUE)\n",
        "head(dados)\n",
        "names(dados)\n",
        "str(dados)\n",
        "#install.packages(\"ExpDes.pt\")\n",
        "require(ExpDes.pt)"
      ],
      "execution_count": 23,
      "outputs": [
        {
          "output_type": "display_data",
          "data": {
            "text/plain": [
              "  trat p  t  bloco ph  al  h    ca  mg  k  ⋯ m    v   mo  cu  fe    mn   zn \n",
              "1 1    p1 t1 1     4.6 3.3 11.0 0.2 0.2 74 ⋯ 84.8 5.1 3.4 0.9 168.8  9.7 0.5\n",
              "2 1    p1 t1 2     4.7 2.8 11.0 0.3 0.2 84 ⋯ 79.6 6.1 3.3 0.7 282.4 11.5 0.7\n",
              "3 1    p1 t1 3     4.5 3.1 11.0 0.2 0.1 70 ⋯ 86.6 4.2 2.8 0.4 195.7  7.8 0.5\n",
              "4 2    p2 t1 1     5.0 3.3 11.0 0.1 0.1 50 ⋯ 90.9 2.9 2.2 0.6 289.5  2.9 0.3\n",
              "5 2    p2 t1 2     4.7 3.1 12.3 0.2 0.1 84 ⋯ 85.6 4.1 2.3 0.6 247.7  9.3 0.4\n",
              "6 2    p2 t1 3     4.9 3.2 12.3 0.1 0.1 60 ⋯ 90.1 2.8 2.9 0.4 247.9  6.3 0.4\n",
              "  sand clay silt\n",
              "1 46   41   13  \n",
              "2 47   41   12  \n",
              "3 45   43   12  \n",
              "4 44   39   17  \n",
              "5 48   39   13  \n",
              "6 45   39   16  "
            ],
            "text/latex": "A data.frame: 6 × 24\n\\begin{tabular}{r|lllllllllllllllllllll}\n  & trat & p & t & bloco & ph & al & h & ca & mg & k & ⋯ & m & v & mo & cu & fe & mn & zn & sand & clay & silt\\\\\n  & <int> & <chr> & <chr> & <int> & <dbl> & <dbl> & <dbl> & <dbl> & <dbl> & <int> & ⋯ & <dbl> & <dbl> & <dbl> & <dbl> & <dbl> & <dbl> & <dbl> & <int> & <int> & <int>\\\\\n\\hline\n\t1 & 1 & p1 & t1 & 1 & 4.6 & 3.3 & 11.0 & 0.2 & 0.2 & 74 & ⋯ & 84.8 & 5.1 & 3.4 & 0.9 & 168.8 &  9.7 & 0.5 & 46 & 41 & 13\\\\\n\t2 & 1 & p1 & t1 & 2 & 4.7 & 2.8 & 11.0 & 0.3 & 0.2 & 84 & ⋯ & 79.6 & 6.1 & 3.3 & 0.7 & 282.4 & 11.5 & 0.7 & 47 & 41 & 12\\\\\n\t3 & 1 & p1 & t1 & 3 & 4.5 & 3.1 & 11.0 & 0.2 & 0.1 & 70 & ⋯ & 86.6 & 4.2 & 2.8 & 0.4 & 195.7 &  7.8 & 0.5 & 45 & 43 & 12\\\\\n\t4 & 2 & p2 & t1 & 1 & 5.0 & 3.3 & 11.0 & 0.1 & 0.1 & 50 & ⋯ & 90.9 & 2.9 & 2.2 & 0.6 & 289.5 &  2.9 & 0.3 & 44 & 39 & 17\\\\\n\t5 & 2 & p2 & t1 & 2 & 4.7 & 3.1 & 12.3 & 0.2 & 0.1 & 84 & ⋯ & 85.6 & 4.1 & 2.3 & 0.6 & 247.7 &  9.3 & 0.4 & 48 & 39 & 13\\\\\n\t6 & 2 & p2 & t1 & 3 & 4.9 & 3.2 & 12.3 & 0.1 & 0.1 & 60 & ⋯ & 90.1 & 2.8 & 2.9 & 0.4 & 247.9 &  6.3 & 0.4 & 45 & 39 & 16\\\\\n\\end{tabular}\n",
            "text/markdown": "\nA data.frame: 6 × 24\n\n| <!--/--> | trat &lt;int&gt; | p &lt;chr&gt; | t &lt;chr&gt; | bloco &lt;int&gt; | ph &lt;dbl&gt; | al &lt;dbl&gt; | h &lt;dbl&gt; | ca &lt;dbl&gt; | mg &lt;dbl&gt; | k &lt;int&gt; | ⋯ ⋯ | m &lt;dbl&gt; | v &lt;dbl&gt; | mo &lt;dbl&gt; | cu &lt;dbl&gt; | fe &lt;dbl&gt; | mn &lt;dbl&gt; | zn &lt;dbl&gt; | sand &lt;int&gt; | clay &lt;int&gt; | silt &lt;int&gt; |\n|---|---|---|---|---|---|---|---|---|---|---|---|---|---|---|---|---|---|---|---|---|---|\n| 1 | 1 | p1 | t1 | 1 | 4.6 | 3.3 | 11.0 | 0.2 | 0.2 | 74 | ⋯ | 84.8 | 5.1 | 3.4 | 0.9 | 168.8 |  9.7 | 0.5 | 46 | 41 | 13 |\n| 2 | 1 | p1 | t1 | 2 | 4.7 | 2.8 | 11.0 | 0.3 | 0.2 | 84 | ⋯ | 79.6 | 6.1 | 3.3 | 0.7 | 282.4 | 11.5 | 0.7 | 47 | 41 | 12 |\n| 3 | 1 | p1 | t1 | 3 | 4.5 | 3.1 | 11.0 | 0.2 | 0.1 | 70 | ⋯ | 86.6 | 4.2 | 2.8 | 0.4 | 195.7 |  7.8 | 0.5 | 45 | 43 | 12 |\n| 4 | 2 | p2 | t1 | 1 | 5.0 | 3.3 | 11.0 | 0.1 | 0.1 | 50 | ⋯ | 90.9 | 2.9 | 2.2 | 0.6 | 289.5 |  2.9 | 0.3 | 44 | 39 | 17 |\n| 5 | 2 | p2 | t1 | 2 | 4.7 | 3.1 | 12.3 | 0.2 | 0.1 | 84 | ⋯ | 85.6 | 4.1 | 2.3 | 0.6 | 247.7 |  9.3 | 0.4 | 48 | 39 | 13 |\n| 6 | 2 | p2 | t1 | 3 | 4.9 | 3.2 | 12.3 | 0.1 | 0.1 | 60 | ⋯ | 90.1 | 2.8 | 2.9 | 0.4 | 247.9 |  6.3 | 0.4 | 45 | 39 | 16 |\n\n",
            "text/html": [
              "<table class=\"dataframe\">\n",
              "<caption>A data.frame: 6 × 24</caption>\n",
              "<thead>\n",
              "\t<tr><th></th><th scope=col>trat</th><th scope=col>p</th><th scope=col>t</th><th scope=col>bloco</th><th scope=col>ph</th><th scope=col>al</th><th scope=col>h</th><th scope=col>ca</th><th scope=col>mg</th><th scope=col>k</th><th scope=col>⋯</th><th scope=col>m</th><th scope=col>v</th><th scope=col>mo</th><th scope=col>cu</th><th scope=col>fe</th><th scope=col>mn</th><th scope=col>zn</th><th scope=col>sand</th><th scope=col>clay</th><th scope=col>silt</th></tr>\n",
              "\t<tr><th></th><th scope=col>&lt;int&gt;</th><th scope=col>&lt;chr&gt;</th><th scope=col>&lt;chr&gt;</th><th scope=col>&lt;int&gt;</th><th scope=col>&lt;dbl&gt;</th><th scope=col>&lt;dbl&gt;</th><th scope=col>&lt;dbl&gt;</th><th scope=col>&lt;dbl&gt;</th><th scope=col>&lt;dbl&gt;</th><th scope=col>&lt;int&gt;</th><th scope=col>⋯</th><th scope=col>&lt;dbl&gt;</th><th scope=col>&lt;dbl&gt;</th><th scope=col>&lt;dbl&gt;</th><th scope=col>&lt;dbl&gt;</th><th scope=col>&lt;dbl&gt;</th><th scope=col>&lt;dbl&gt;</th><th scope=col>&lt;dbl&gt;</th><th scope=col>&lt;int&gt;</th><th scope=col>&lt;int&gt;</th><th scope=col>&lt;int&gt;</th></tr>\n",
              "</thead>\n",
              "<tbody>\n",
              "\t<tr><th scope=row>1</th><td>1</td><td>p1</td><td>t1</td><td>1</td><td>4.6</td><td>3.3</td><td>11.0</td><td>0.2</td><td>0.2</td><td>74</td><td>⋯</td><td>84.8</td><td>5.1</td><td>3.4</td><td>0.9</td><td>168.8</td><td> 9.7</td><td>0.5</td><td>46</td><td>41</td><td>13</td></tr>\n",
              "\t<tr><th scope=row>2</th><td>1</td><td>p1</td><td>t1</td><td>2</td><td>4.7</td><td>2.8</td><td>11.0</td><td>0.3</td><td>0.2</td><td>84</td><td>⋯</td><td>79.6</td><td>6.1</td><td>3.3</td><td>0.7</td><td>282.4</td><td>11.5</td><td>0.7</td><td>47</td><td>41</td><td>12</td></tr>\n",
              "\t<tr><th scope=row>3</th><td>1</td><td>p1</td><td>t1</td><td>3</td><td>4.5</td><td>3.1</td><td>11.0</td><td>0.2</td><td>0.1</td><td>70</td><td>⋯</td><td>86.6</td><td>4.2</td><td>2.8</td><td>0.4</td><td>195.7</td><td> 7.8</td><td>0.5</td><td>45</td><td>43</td><td>12</td></tr>\n",
              "\t<tr><th scope=row>4</th><td>2</td><td>p2</td><td>t1</td><td>1</td><td>5.0</td><td>3.3</td><td>11.0</td><td>0.1</td><td>0.1</td><td>50</td><td>⋯</td><td>90.9</td><td>2.9</td><td>2.2</td><td>0.6</td><td>289.5</td><td> 2.9</td><td>0.3</td><td>44</td><td>39</td><td>17</td></tr>\n",
              "\t<tr><th scope=row>5</th><td>2</td><td>p2</td><td>t1</td><td>2</td><td>4.7</td><td>3.1</td><td>12.3</td><td>0.2</td><td>0.1</td><td>84</td><td>⋯</td><td>85.6</td><td>4.1</td><td>2.3</td><td>0.6</td><td>247.7</td><td> 9.3</td><td>0.4</td><td>48</td><td>39</td><td>13</td></tr>\n",
              "\t<tr><th scope=row>6</th><td>2</td><td>p2</td><td>t1</td><td>3</td><td>4.9</td><td>3.2</td><td>12.3</td><td>0.1</td><td>0.1</td><td>60</td><td>⋯</td><td>90.1</td><td>2.8</td><td>2.9</td><td>0.4</td><td>247.9</td><td> 6.3</td><td>0.4</td><td>45</td><td>39</td><td>16</td></tr>\n",
              "</tbody>\n",
              "</table>\n"
            ]
          },
          "metadata": {}
        },
        {
          "output_type": "display_data",
          "data": {
            "text/plain": [
              " [1] \"trat\"  \"p\"     \"t\"     \"bloco\" \"ph\"    \"al\"    \"h\"     \"ca\"    \"mg\"   \n",
              "[10] \"k\"     \"p.1\"   \"sb\"    \"t.1\"   \"tt\"    \"m\"     \"v\"     \"mo\"    \"cu\"   \n",
              "[19] \"fe\"    \"mn\"    \"zn\"    \"sand\"  \"clay\"  \"silt\" "
            ],
            "text/latex": "\\begin{enumerate*}\n\\item 'trat'\n\\item 'p'\n\\item 't'\n\\item 'bloco'\n\\item 'ph'\n\\item 'al'\n\\item 'h'\n\\item 'ca'\n\\item 'mg'\n\\item 'k'\n\\item 'p.1'\n\\item 'sb'\n\\item 't.1'\n\\item 'tt'\n\\item 'm'\n\\item 'v'\n\\item 'mo'\n\\item 'cu'\n\\item 'fe'\n\\item 'mn'\n\\item 'zn'\n\\item 'sand'\n\\item 'clay'\n\\item 'silt'\n\\end{enumerate*}\n",
            "text/markdown": "1. 'trat'\n2. 'p'\n3. 't'\n4. 'bloco'\n5. 'ph'\n6. 'al'\n7. 'h'\n8. 'ca'\n9. 'mg'\n10. 'k'\n11. 'p.1'\n12. 'sb'\n13. 't.1'\n14. 'tt'\n15. 'm'\n16. 'v'\n17. 'mo'\n18. 'cu'\n19. 'fe'\n20. 'mn'\n21. 'zn'\n22. 'sand'\n23. 'clay'\n24. 'silt'\n\n\n",
            "text/html": [
              "<style>\n",
              ".list-inline {list-style: none; margin:0; padding: 0}\n",
              ".list-inline>li {display: inline-block}\n",
              ".list-inline>li:not(:last-child)::after {content: \"\\00b7\"; padding: 0 .5ex}\n",
              "</style>\n",
              "<ol class=list-inline><li>'trat'</li><li>'p'</li><li>'t'</li><li>'bloco'</li><li>'ph'</li><li>'al'</li><li>'h'</li><li>'ca'</li><li>'mg'</li><li>'k'</li><li>'p.1'</li><li>'sb'</li><li>'t.1'</li><li>'tt'</li><li>'m'</li><li>'v'</li><li>'mo'</li><li>'cu'</li><li>'fe'</li><li>'mn'</li><li>'zn'</li><li>'sand'</li><li>'clay'</li><li>'silt'</li></ol>\n"
            ]
          },
          "metadata": {}
        },
        {
          "output_type": "stream",
          "name": "stdout",
          "text": [
            "'data.frame':\t18 obs. of  24 variables:\n",
            " $ trat : int  1 1 1 2 2 2 3 3 3 4 ...\n",
            " $ p    : chr  \"p1\" \"p1\" \"p1\" \"p2\" ...\n",
            " $ t    : chr  \"t1\" \"t1\" \"t1\" \"t1\" ...\n",
            " $ bloco: int  1 2 3 1 2 3 1 2 3 1 ...\n",
            " $ ph   : num  4.6 4.7 4.5 5 4.7 4.9 4.6 4.6 5 4.2 ...\n",
            " $ al   : num  3.3 2.8 3.1 3.3 3.1 3.2 3.2 3.6 2.9 3.4 ...\n",
            " $ h    : num  11 11 11 11 12.3 12.3 11 13.7 9.8 12.3 ...\n",
            " $ ca   : num  0.2 0.3 0.2 0.1 0.2 0.1 0.1 0.1 0.1 0.3 ...\n",
            " $ mg   : num  0.2 0.2 0.1 0.1 0.1 0.1 0.1 0.1 0.1 0.1 ...\n",
            " $ k    : int  74 84 70 50 84 60 70 64 56 96 ...\n",
            " $ p.1  : num  1.2 1.1 1.1 0.6 0.8 0.6 0.9 0.8 0.8 1.4 ...\n",
            " $ sb   : num  0.6 0.7 0.5 0.3 0.5 0.4 0.4 0.4 0.3 0.7 ...\n",
            " $ t.1  : num  3.9 3.5 3.6 3.6 2 3.6 3.6 4 3.2 4.1 ...\n",
            " $ tt   : num  11.6 11.7 11.5 11.3 12.8 12.6 11.4 14.1 10.2 12.9 ...\n",
            " $ m    : num  84.8 79.6 86.6 90.9 85.6 90.1 89.4 90.9 89.5 84 ...\n",
            " $ v    : num  5.1 6.1 4.2 2.9 4.1 2.8 3.3 2.6 3.4 5 ...\n",
            " $ mo   : num  3.4 3.3 2.8 2.2 2.3 2.9 2 2.4 2.4 3.1 ...\n",
            " $ cu   : num  0.9 0.7 0.4 0.6 0.6 0.4 0.5 0.3 0.3 0.5 ...\n",
            " $ fe   : num  169 282 196 290 248 ...\n",
            " $ mn   : num  9.7 11.5 7.8 2.9 9.3 6.3 6.1 4.8 4.9 11.1 ...\n",
            " $ zn   : num  0.5 0.7 0.5 0.3 0.4 0.4 0.4 0.4 0.3 0.6 ...\n",
            " $ sand : int  46 47 45 44 48 45 47 44 46 47 ...\n",
            " $ clay : int  41 41 43 39 39 39 36 41 39 41 ...\n",
            " $ silt : int  13 12 12 17 13 16 17 15 15 12 ...\n"
          ]
        }
      ]
    },
    {
      "cell_type": "code",
      "metadata": {
        "id": "doiZqOj7ENt5",
        "colab": {
          "base_uri": "https://localhost:8080/"
        },
        "outputId": "96f02df4-ed9c-49e5-fd54-1d30770d9e2f"
      },
      "source": [
        "#------ Analisando  --------\n",
        "\n",
        "dbc(dados$trat, dados$bloco, dados$ph, quali = TRUE, mcomp = \"tukey\", sigT = 0.05, sigF = 0.05)\n",
        "fat2.dbc(dados$p, dados$t,dados$bloco,  dados$ph, quali = c(TRUE, TRUE), mcomp = \n",
        "\"tukey\", fac.names = c(\"Solo\", \"Topsoil\"), sigT = 0.05, sigF = 0.05)\n"
      ],
      "execution_count": 24,
      "outputs": [
        {
          "output_type": "stream",
          "name": "stdout",
          "text": [
            "------------------------------------------------------------------------\n",
            "Quadro da analise de variancia\n",
            "------------------------------------------------------------------------\n",
            "           GL      SQ       QM     Fc   Pr>Fc\n",
            "Tratamento  5 0.21611 0.043222 1.1408 0.40018\n",
            "Bloco       2 0.11444 0.057222 1.5103 0.26721\n",
            "Residuo    10 0.37889 0.037889               \n",
            "Total      17 0.70944                        \n",
            "------------------------------------------------------------------------\n",
            "CV = 4.14 %\n",
            "\n",
            "------------------------------------------------------------------------\n",
            "Teste de normalidade dos residuos \n",
            "valor-p:  0.109932 \n",
            "De acordo com o teste de Shapiro-Wilk a 5% de significancia, os residuos podem ser considerados normais.\n",
            "------------------------------------------------------------------------\n",
            "\n",
            "------------------------------------------------------------------------\n",
            "Teste de homogeneidade de variancia \n",
            "valor-p:  0.9572635 \n",
            "De acordo com o teste de oneillmathews a 5% de significancia, as variancias podem ser consideradas homogeneas.\n",
            "------------------------------------------------------------------------\n",
            "\n",
            "De acordo com o teste F, as medias nao podem ser consideradas diferentes.\n",
            "  Niveis   Medias\n",
            "1      1 4.600000\n",
            "2      2 4.866667\n",
            "3      3 4.733333\n",
            "4      4 4.533333\n",
            "5      5 4.733333\n",
            "6      6 4.766667\n",
            "------------------------------------------------------------------------\n",
            "------------------------------------------------------------------------\n",
            "Legenda:\n",
            "FATOR 1:  Solo \n",
            "FATOR 2:  Topsoil \n",
            "------------------------------------------------------------------------\n",
            "\n",
            "\n",
            "Quadro da analise de variancia\n",
            "------------------------------------------------------------------------\n",
            "             GL      SQ QM      Fc   Pr>Fc\n",
            "Bloco         2 0.11444  5 1.51026 0.26721\n",
            "Solo          2 0.18111  6 2.39003 0.14178\n",
            "Topsoil       1 0.01389  3 0.36657 0.55837\n",
            "Solo*Topsoil  2 0.02111  2 0.27859 0.76253\n",
            "Residuo      10 0.37889  4                \n",
            "Total        17 0.70944  1                \n",
            "------------------------------------------------------------------------\n",
            "CV = 4.14 %\n",
            "\n",
            "------------------------------------------------------------------------\n",
            "Teste de normalidade dos residuos (Shapiro-Wilk)\n",
            "valor-p:  0.109932 \n",
            "De acordo com o teste de Shapiro-Wilk a 5% de significancia, os residuos podem ser considerados normais.\n",
            "------------------------------------------------------------------------\n",
            "\n",
            "Interacao nao significativa: analisando os efeitos simples\n",
            "------------------------------------------------------------------------\n",
            "Solo\n",
            "De acordo com o teste F, as medias desse fator sao estatisticamente iguais.\n",
            "------------------------------------------------------------------------\n",
            "  Niveis   Medias\n",
            "1     p1 4.566667\n",
            "2     p2 4.800000\n",
            "3     p3 4.750000\n",
            "------------------------------------------------------------------------\n",
            "Topsoil\n",
            "De acordo com o teste F, as medias desse fator sao estatisticamente iguais.\n",
            "------------------------------------------------------------------------\n",
            "  Niveis   Medias\n",
            "1     t1 4.733333\n",
            "2     t2 4.677778\n",
            "------------------------------------------------------------------------\n"
          ]
        }
      ]
    }
  ]
}